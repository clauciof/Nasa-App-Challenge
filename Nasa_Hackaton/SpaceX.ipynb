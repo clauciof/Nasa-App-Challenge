{
 "cells": [
  {
   "cell_type": "code",
   "execution_count": 1,
   "metadata": {},
   "outputs": [],
   "source": [
    "#IMPORTANDO BIBLIOTECAS\n",
    "import pandas as pd\n",
    "import numpy as np\n",
    "import matplotlib.pyplot as plt\n",
    "import seaborn as sns\n",
    "import pydot, graphviz, os, sklearn \n",
    "from sklearn.model_selection import GridSearchCV\n",
    "from sklearn.model_selection import train_test_split\n",
    "from imblearn.over_sampling import RandomOverSampler"
   ]
  },
  {
   "cell_type": "code",
   "execution_count": 2,
   "metadata": {},
   "outputs": [
    {
     "ename": "NameError",
     "evalue": "name 'target' is not defined",
     "output_type": "error",
     "traceback": [
      "\u001b[1;31m---------------------------------------------------------------------------\u001b[0m",
      "\u001b[1;31mNameError\u001b[0m                                 Traceback (most recent call last)",
      "\u001b[1;32m<ipython-input-2-ec63e6b7ebd0>\u001b[0m in \u001b[0;36m<module>\u001b[1;34m\u001b[0m\n\u001b[0;32m      8\u001b[0m \u001b[1;32mfrom\u001b[0m \u001b[0msklearn\u001b[0m \u001b[1;32mimport\u001b[0m \u001b[0mmetrics\u001b[0m\u001b[1;33m\u001b[0m\u001b[1;33m\u001b[0m\u001b[0m\n\u001b[0;32m      9\u001b[0m \u001b[1;31m#Confusion Matrix\u001b[0m\u001b[1;33m\u001b[0m\u001b[1;33m\u001b[0m\u001b[1;33m\u001b[0m\u001b[0m\n\u001b[1;32m---> 10\u001b[1;33m \u001b[1;32mdef\u001b[0m \u001b[0mConfusion_Matrix\u001b[0m\u001b[1;33m(\u001b[0m\u001b[0my_pred\u001b[0m\u001b[1;33m,\u001b[0m\u001b[0my_test\u001b[0m\u001b[1;33m,\u001b[0m\u001b[0mtarget\u001b[0m\u001b[1;33m=\u001b[0m\u001b[0mtarget\u001b[0m\u001b[1;33m)\u001b[0m\u001b[1;33m:\u001b[0m\u001b[1;33m\u001b[0m\u001b[1;33m\u001b[0m\u001b[0m\n\u001b[0m\u001b[0;32m     11\u001b[0m     \u001b[0ml\u001b[0m\u001b[1;33m=\u001b[0m\u001b[0mlen\u001b[0m\u001b[1;33m(\u001b[0m\u001b[0mdados\u001b[0m\u001b[1;33m[\u001b[0m\u001b[0mtarget\u001b[0m\u001b[1;33m]\u001b[0m\u001b[1;33m.\u001b[0m\u001b[0mvalue_counts\u001b[0m\u001b[1;33m(\u001b[0m\u001b[1;33m)\u001b[0m\u001b[1;33m)\u001b[0m\u001b[1;33m\u001b[0m\u001b[1;33m\u001b[0m\u001b[0m\n\u001b[0;32m     12\u001b[0m     \u001b[0mcm\u001b[0m\u001b[1;33m=\u001b[0m\u001b[0mnp\u001b[0m\u001b[1;33m.\u001b[0m\u001b[0mzeros\u001b[0m\u001b[1;33m(\u001b[0m\u001b[1;33m(\u001b[0m\u001b[0ml\u001b[0m\u001b[1;33m+\u001b[0m\u001b[1;36m1\u001b[0m\u001b[1;33m,\u001b[0m\u001b[0ml\u001b[0m\u001b[1;33m+\u001b[0m\u001b[1;36m1\u001b[0m\u001b[1;33m)\u001b[0m\u001b[1;33m,\u001b[0m \u001b[0mdtype\u001b[0m\u001b[1;33m=\u001b[0m\u001b[0mint\u001b[0m\u001b[1;33m)\u001b[0m\u001b[1;33m\u001b[0m\u001b[1;33m\u001b[0m\u001b[0m\n",
      "\u001b[1;31mNameError\u001b[0m: name 'target' is not defined"
     ]
    }
   ],
   "source": [
    "#Coloring Diagonal PandaDataFrame\n",
    "def style_diag(data):\n",
    "    diag_mask = pd.DataFrame(\"\", index=data.index, columns=data.columns)\n",
    "    min_axis = min(diag_mask.shape)\n",
    "    diag_mask.iloc[range(min_axis), range(min_axis)] = 'background-color: green'\n",
    "    return diag_mask\n",
    "\n",
    "from sklearn import metrics\n",
    "#Confusion Matrix\n",
    "def Confusion_Matrix(y_pred,y_test,target=target):\n",
    "    l=len(dados[target].value_counts())\n",
    "    cm=np.zeros((l+1,l+1), dtype=int)\n",
    "    cm[:l,:l]=metrics.confusion_matrix(y_true=y_test, y_pred=y_pred, labels=np.arange(0,l))\n",
    "    cm[l,:l]=[y.sum() for y in cm[:l,:l].T]\n",
    "    cm[:,l]=[x.sum() for x in cm]\n",
    "    score=np.array([(1 if x==y else 0) for x,y in np.array([y_pred,y_test]).T])\n",
    "    columns=np.array(dados[target].value_counts().index).tolist();columns.sort();columns=columns+['Total']\n",
    "    print('Score={} \\nStd={}'.format(score.mean(),score.std()/(len(X_teste)**0.5)))\n",
    "    return pd.DataFrame(cm,index=columns,columns=columns).style.apply(style_diag, axis=None)\n",
    "\n",
    "def Cross_Validation(clf,X=X,Y=Y):\n",
    "    vc=[]; i=-1\n",
    "    loo=sklearn.model_selection.LeaveOneOut(); ros = RandomOverSampler(random_state=0)   \n",
    "    for train_index, test_index in loo.split(X):\n",
    "        i+=1\n",
    "        X_train, X_test, Y_train, Y_test = X[train_index], X[test_index], Y[train_index], Y[test_index]\n",
    "        print(round(i*100/len(Y), 1),'%             ', end=\"\\r\")\n",
    "        vc=np.hstack((vc,clf.fit(X_train,Y_train).predict(X_test)))\n",
    "    return (Confusion_Matrix(y_pred=vc.astype('int'),y_test=Y, target=target))\n",
    "#sklearn.model_selection.cross_val_score(clf,X,Y,n_jobs=-1,cv=sklearn.model_selection.LeaveOneOut())\n",
    "#scoring=['accuracy', 'roc_auc', 'log_loss', ]\n",
    "#sklearn.metrics.f1_score(Y_teste,clf.fit(X_treino,Y_treino).predict(X_teste), average='weighted')   \n",
    "\n",
    "print('FUNÇÕES CRIADAS: \\n\\\n",
    "Confusion_Matrix(y_pred,y_test) \\n\\\n",
    "Cross_Validation(clf,X=X_sparse,Y=Y)'); hide()"
   ]
  },
  {
   "cell_type": "code",
   "execution_count": null,
   "metadata": {},
   "outputs": [],
   "source": [
    "variaveis_geral=['AEROSOL OPTICAL THICKNESS','AEROSOL PARTICLE RADIUS','BATHYMETRY','CHLOROPHYLL','CHLOROPHYLL T',\n",
    "           'CLOUD FRACTION','CLOUD PARTICLE RADIUS','CLOUD OPTICAL THICKNESS','CLOUD WATER CONTENT', 'NITROGEN DIOXIDE',\n",
    "           'SEA SURFACE TEMPERATURE','WATER VAPOR']\n",
    "arquivos=[]\n",
    "for j in range(0,len(variaveis_geral)):\n",
    "        arquivos.append(variaveis_geral[j]+i)\n",
    "data=pd.DataFrame()"
   ]
  },
  {
   "cell_type": "code",
   "execution_count": 3,
   "metadata": {},
   "outputs": [],
   "source": [
    "target='CHLOROPHYLL T';"
   ]
  },
  {
   "cell_type": "code",
   "execution_count": 4,
   "metadata": {},
   "outputs": [
    {
     "ename": "NameError",
     "evalue": "name 'data' is not defined",
     "output_type": "error",
     "traceback": [
      "\u001b[1;31m---------------------------------------------------------------------------\u001b[0m",
      "\u001b[1;31mNameError\u001b[0m                                 Traceback (most recent call last)",
      "\u001b[1;32m<ipython-input-4-41cf1bcd9ee6>\u001b[0m in \u001b[0;36m<module>\u001b[1;34m\u001b[0m\n\u001b[1;32m----> 1\u001b[1;33m \u001b[0mdados_preparados\u001b[0m\u001b[1;33m=\u001b[0m\u001b[0mdata\u001b[0m\u001b[1;33m\u001b[0m\u001b[1;33m\u001b[0m\u001b[0m\n\u001b[0m",
      "\u001b[1;31mNameError\u001b[0m: name 'data' is not defined"
     ]
    }
   ],
   "source": [
    "dados_preparados=data"
   ]
  },
  {
   "cell_type": "code",
   "execution_count": 54,
   "metadata": {},
   "outputs": [],
   "source": [
    "Y=np.array(dados_preparados['CHLOROPHYLL T'].astype('category').cat.codes)\n",
    "X=np.array(dados_preparados.drop('CHLOROPHYLL T', axis=1))"
   ]
  },
  {
   "cell_type": "code",
   "execution_count": 25,
   "metadata": {},
   "outputs": [],
   "source": [
    "X_treino, X_teste, Y_treino, Y_teste = train_test_split(X, Y, test_size = .1, random_state = 0)"
   ]
  },
  {
   "cell_type": "code",
   "execution_count": 51,
   "metadata": {},
   "outputs": [],
   "source": [
    "from imblearn.over_sampling import RandomOverSampler\n",
    "ros=RandomOverSampler(random_state=0)\n",
    "X, Y= ros.fit_resample(X, Y)"
   ]
  },
  {
   "cell_type": "code",
   "execution_count": 29,
   "metadata": {},
   "outputs": [],
   "source": [
    "from sklearn.ensemble import ExtraTreesClassifier\n",
    "clf=ExtraTreesClassifier(random_state=0)"
   ]
  },
  {
   "cell_type": "code",
   "execution_count": 33,
   "metadata": {},
   "outputs": [
    {
     "name": "stdout",
     "output_type": "stream",
     "text": [
      "Score=0.9877993028173039 \n",
      "Std=0.0002624339795822255\n"
     ]
    },
    {
     "data": {
      "text/html": [
       "<style  type=\"text/css\" >\n",
       "    #T_2f7954fa_f341_11e9_b481_9828a60159ddrow0_col0 {\n",
       "            background-color:  green;\n",
       "        }    #T_2f7954fa_f341_11e9_b481_9828a60159ddrow1_col1 {\n",
       "            background-color:  green;\n",
       "        }    #T_2f7954fa_f341_11e9_b481_9828a60159ddrow2_col2 {\n",
       "            background-color:  green;\n",
       "        }</style>  \n",
       "<table id=\"T_2f7954fa_f341_11e9_b481_9828a60159dd\" > \n",
       "<thead>    <tr> \n",
       "        <th class=\"blank level0\" ></th> \n",
       "        <th class=\"col_heading level0 col0\" >NAO</th> \n",
       "        <th class=\"col_heading level0 col1\" >SIM</th> \n",
       "        <th class=\"col_heading level0 col2\" >Total</th> \n",
       "    </tr></thead> \n",
       "<tbody>    <tr> \n",
       "        <th id=\"T_2f7954fa_f341_11e9_b481_9828a60159ddlevel0_row0\" class=\"row_heading level0 row0\" >NAO</th> \n",
       "        <td id=\"T_2f7954fa_f341_11e9_b481_9828a60159ddrow0_col0\" class=\"data row0 col0\" >169147</td> \n",
       "        <td id=\"T_2f7954fa_f341_11e9_b481_9828a60159ddrow0_col1\" class=\"data row0 col1\" >425</td> \n",
       "        <td id=\"T_2f7954fa_f341_11e9_b481_9828a60159ddrow0_col2\" class=\"data row0 col2\" >169572</td> \n",
       "    </tr>    <tr> \n",
       "        <th id=\"T_2f7954fa_f341_11e9_b481_9828a60159ddlevel0_row1\" class=\"row_heading level0 row1\" >SIM</th> \n",
       "        <td id=\"T_2f7954fa_f341_11e9_b481_9828a60159ddrow1_col0\" class=\"data row1 col0\" >1710</td> \n",
       "        <td id=\"T_2f7954fa_f341_11e9_b481_9828a60159ddrow1_col1\" class=\"data row1 col1\" >3708</td> \n",
       "        <td id=\"T_2f7954fa_f341_11e9_b481_9828a60159ddrow1_col2\" class=\"data row1 col2\" >5418</td> \n",
       "    </tr>    <tr> \n",
       "        <th id=\"T_2f7954fa_f341_11e9_b481_9828a60159ddlevel0_row2\" class=\"row_heading level0 row2\" >Total</th> \n",
       "        <td id=\"T_2f7954fa_f341_11e9_b481_9828a60159ddrow2_col0\" class=\"data row2 col0\" >170857</td> \n",
       "        <td id=\"T_2f7954fa_f341_11e9_b481_9828a60159ddrow2_col1\" class=\"data row2 col1\" >4133</td> \n",
       "        <td id=\"T_2f7954fa_f341_11e9_b481_9828a60159ddrow2_col2\" class=\"data row2 col2\" >174990</td> \n",
       "    </tr></tbody> \n",
       "</table> "
      ],
      "text/plain": [
       "<pandas.io.formats.style.Styler at 0x1dafcfd6a58>"
      ]
     },
     "execution_count": 33,
     "metadata": {},
     "output_type": "execute_result"
    }
   ],
   "source": [
    "Confusion_Matrix(clf.fit(X_treino,Y_treino).predict(X_teste),Y_teste)"
   ]
  },
  {
   "cell_type": "code",
   "execution_count": 34,
   "metadata": {},
   "outputs": [],
   "source": [
    "predic=[]\n",
    "for x,y in clf.fit(X_treino,Y_treino).predict_proba(X_teste):\n",
    "    if y>0.2:\n",
    "        y=1\n",
    "    else:\n",
    "        y=0\n",
    "    predic.append(y)"
   ]
  },
  {
   "cell_type": "code",
   "execution_count": 35,
   "metadata": {
    "scrolled": true
   },
   "outputs": [
    {
     "name": "stdout",
     "output_type": "stream",
     "text": [
      "Score=0.984553403051603 \n",
      "Std=0.0002948013245688454\n"
     ]
    },
    {
     "data": {
      "text/html": [
       "<style  type=\"text/css\" >\n",
       "    #T_80490f9a_f341_11e9_9ad4_9828a60159ddrow0_col0 {\n",
       "            background-color:  green;\n",
       "        }    #T_80490f9a_f341_11e9_9ad4_9828a60159ddrow1_col1 {\n",
       "            background-color:  green;\n",
       "        }    #T_80490f9a_f341_11e9_9ad4_9828a60159ddrow2_col2 {\n",
       "            background-color:  green;\n",
       "        }</style>  \n",
       "<table id=\"T_80490f9a_f341_11e9_9ad4_9828a60159dd\" > \n",
       "<thead>    <tr> \n",
       "        <th class=\"blank level0\" ></th> \n",
       "        <th class=\"col_heading level0 col0\" >NAO</th> \n",
       "        <th class=\"col_heading level0 col1\" >SIM</th> \n",
       "        <th class=\"col_heading level0 col2\" >Total</th> \n",
       "    </tr></thead> \n",
       "<tbody>    <tr> \n",
       "        <th id=\"T_80490f9a_f341_11e9_9ad4_9828a60159ddlevel0_row0\" class=\"row_heading level0 row0\" >NAO</th> \n",
       "        <td id=\"T_80490f9a_f341_11e9_9ad4_9828a60159ddrow0_col0\" class=\"data row0 col0\" >167508</td> \n",
       "        <td id=\"T_80490f9a_f341_11e9_9ad4_9828a60159ddrow0_col1\" class=\"data row0 col1\" >2064</td> \n",
       "        <td id=\"T_80490f9a_f341_11e9_9ad4_9828a60159ddrow0_col2\" class=\"data row0 col2\" >169572</td> \n",
       "    </tr>    <tr> \n",
       "        <th id=\"T_80490f9a_f341_11e9_9ad4_9828a60159ddlevel0_row1\" class=\"row_heading level0 row1\" >SIM</th> \n",
       "        <td id=\"T_80490f9a_f341_11e9_9ad4_9828a60159ddrow1_col0\" class=\"data row1 col0\" >639</td> \n",
       "        <td id=\"T_80490f9a_f341_11e9_9ad4_9828a60159ddrow1_col1\" class=\"data row1 col1\" >4779</td> \n",
       "        <td id=\"T_80490f9a_f341_11e9_9ad4_9828a60159ddrow1_col2\" class=\"data row1 col2\" >5418</td> \n",
       "    </tr>    <tr> \n",
       "        <th id=\"T_80490f9a_f341_11e9_9ad4_9828a60159ddlevel0_row2\" class=\"row_heading level0 row2\" >Total</th> \n",
       "        <td id=\"T_80490f9a_f341_11e9_9ad4_9828a60159ddrow2_col0\" class=\"data row2 col0\" >168147</td> \n",
       "        <td id=\"T_80490f9a_f341_11e9_9ad4_9828a60159ddrow2_col1\" class=\"data row2 col1\" >6843</td> \n",
       "        <td id=\"T_80490f9a_f341_11e9_9ad4_9828a60159ddrow2_col2\" class=\"data row2 col2\" >174990</td> \n",
       "    </tr></tbody> \n",
       "</table> "
      ],
      "text/plain": [
       "<pandas.io.formats.style.Styler at 0x1dafe7f82e8>"
      ]
     },
     "execution_count": 35,
     "metadata": {},
     "output_type": "execute_result"
    }
   ],
   "source": [
    "Confusion_Matrix(predic,Y_teste)"
   ]
  },
  {
   "cell_type": "code",
   "execution_count": 36,
   "metadata": {
    "scrolled": true
   },
   "outputs": [
    {
     "name": "stdout",
     "output_type": "stream",
     "text": [
      "AEROSOL OPTICAL THICKNESS 0.03817431966974021\n",
      "AEROSOL PARTICLE RADIUS 0.032469041449126136\n",
      "BATHYMETRY 0.15051595878617843\n",
      "CHLOROPHYLL 0.12959890437913568\n",
      "CLOUD FRACTION 0.060054434958065436\n",
      "CLOUD PARTICLE RADIUS 0.048057043825139846\n",
      "CLOUD OPTICAL THICKNESS 0.04236225272975704\n",
      "CLOUD WATER CONTENT 0.0411830646550468\n",
      "NITROGEN DIOXIDE 0.0568819417679045\n",
      "SEA SURFACE TEMPERATURE 0.08616665795702366\n",
      "WATER VAPOR 0.049133146797762504\n",
      "id 0.1006534248647996\n",
      "x 0.09970121252524826\n",
      "y 0.06504859563507207\n"
     ]
    },
    {
     "ename": "IndexError",
     "evalue": "index 14 is out of bounds for axis 0 with size 14",
     "output_type": "error",
     "traceback": [
      "\u001b[1;31m---------------------------------------------------------------------------\u001b[0m",
      "\u001b[1;31mIndexError\u001b[0m                                Traceback (most recent call last)",
      "\u001b[1;32m<ipython-input-36-dbce5471bfa7>\u001b[0m in \u001b[0;36m<module>\u001b[1;34m\u001b[0m\n\u001b[0;32m      1\u001b[0m \u001b[0mfit\u001b[0m\u001b[1;33m=\u001b[0m\u001b[0mclf\u001b[0m\u001b[1;33m.\u001b[0m\u001b[0mfit\u001b[0m\u001b[1;33m(\u001b[0m\u001b[0mX\u001b[0m\u001b[1;33m,\u001b[0m\u001b[0mY\u001b[0m\u001b[1;33m)\u001b[0m\u001b[1;33m\u001b[0m\u001b[1;33m\u001b[0m\u001b[0m\n\u001b[0;32m      2\u001b[0m \u001b[1;32mfor\u001b[0m \u001b[0mx\u001b[0m \u001b[1;32min\u001b[0m \u001b[0mrange\u001b[0m\u001b[1;33m(\u001b[0m\u001b[1;36m0\u001b[0m\u001b[1;33m,\u001b[0m\u001b[0mlen\u001b[0m\u001b[1;33m(\u001b[0m\u001b[0mdados\u001b[0m\u001b[1;33m)\u001b[0m\u001b[1;33m-\u001b[0m\u001b[1;36m1\u001b[0m\u001b[1;33m)\u001b[0m\u001b[1;33m:\u001b[0m\u001b[1;33m\u001b[0m\u001b[1;33m\u001b[0m\u001b[0m\n\u001b[1;32m----> 3\u001b[1;33m     \u001b[0mprint\u001b[0m\u001b[1;33m(\u001b[0m\u001b[0mdados\u001b[0m\u001b[1;33m.\u001b[0m\u001b[0mdrop\u001b[0m\u001b[1;33m(\u001b[0m\u001b[0mtarget\u001b[0m\u001b[1;33m,\u001b[0m\u001b[0maxis\u001b[0m\u001b[1;33m=\u001b[0m\u001b[1;36m1\u001b[0m\u001b[1;33m)\u001b[0m\u001b[1;33m.\u001b[0m\u001b[0mcolumns\u001b[0m\u001b[1;33m[\u001b[0m\u001b[0mx\u001b[0m\u001b[1;33m]\u001b[0m\u001b[1;33m,\u001b[0m\u001b[0mfit\u001b[0m\u001b[1;33m.\u001b[0m\u001b[0mfeature_importances_\u001b[0m\u001b[1;33m[\u001b[0m\u001b[0mx\u001b[0m\u001b[1;33m]\u001b[0m\u001b[1;33m)\u001b[0m\u001b[1;33m\u001b[0m\u001b[1;33m\u001b[0m\u001b[0m\n\u001b[0m",
      "\u001b[1;32m~\\Anaconda3\\lib\\site-packages\\pandas\\core\\indexes\\base.py\u001b[0m in \u001b[0;36m__getitem__\u001b[1;34m(self, key)\u001b[0m\n\u001b[0;32m   2082\u001b[0m \u001b[1;33m\u001b[0m\u001b[0m\n\u001b[0;32m   2083\u001b[0m         \u001b[1;32mif\u001b[0m \u001b[0mis_scalar\u001b[0m\u001b[1;33m(\u001b[0m\u001b[0mkey\u001b[0m\u001b[1;33m)\u001b[0m\u001b[1;33m:\u001b[0m\u001b[1;33m\u001b[0m\u001b[1;33m\u001b[0m\u001b[0m\n\u001b[1;32m-> 2084\u001b[1;33m             \u001b[1;32mreturn\u001b[0m \u001b[0mgetitem\u001b[0m\u001b[1;33m(\u001b[0m\u001b[0mkey\u001b[0m\u001b[1;33m)\u001b[0m\u001b[1;33m\u001b[0m\u001b[1;33m\u001b[0m\u001b[0m\n\u001b[0m\u001b[0;32m   2085\u001b[0m \u001b[1;33m\u001b[0m\u001b[0m\n\u001b[0;32m   2086\u001b[0m         \u001b[1;32mif\u001b[0m \u001b[0misinstance\u001b[0m\u001b[1;33m(\u001b[0m\u001b[0mkey\u001b[0m\u001b[1;33m,\u001b[0m \u001b[0mslice\u001b[0m\u001b[1;33m)\u001b[0m\u001b[1;33m:\u001b[0m\u001b[1;33m\u001b[0m\u001b[1;33m\u001b[0m\u001b[0m\n",
      "\u001b[1;31mIndexError\u001b[0m: index 14 is out of bounds for axis 0 with size 14"
     ]
    }
   ],
   "source": [
    "fit=clf.fit(X,Y)\n",
    "for x in range(0,len(dados)-1):\n",
    "    print(dados.drop(target,axis=1).columns[x],fit.feature_importances_[x])"
   ]
  }
 ],
 "metadata": {
  "kernelspec": {
   "display_name": "Python 3",
   "language": "python",
   "name": "python3"
  },
  "language_info": {
   "codemirror_mode": {
    "name": "ipython",
    "version": 3
   },
   "file_extension": ".py",
   "mimetype": "text/x-python",
   "name": "python",
   "nbconvert_exporter": "python",
   "pygments_lexer": "ipython3",
   "version": "3.7.1"
  }
 },
 "nbformat": 4,
 "nbformat_minor": 2
}
